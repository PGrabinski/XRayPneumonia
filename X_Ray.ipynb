{
  "nbformat": 4,
  "nbformat_minor": 0,
  "metadata": {
    "colab": {
      "name": "X_Ray.ipynb",
      "version": "0.3.2",
      "provenance": [],
      "collapsed_sections": [
        "yq2phJcmR26v"
      ]
    },
    "kernelspec": {
      "name": "python3",
      "display_name": "Python 3"
    },
    "accelerator": "GPU"
  },
  "cells": [
    {
      "cell_type": "markdown",
      "metadata": {
        "id": "view-in-github",
        "colab_type": "text"
      },
      "source": [
        "[View in Colaboratory](https://colab.research.google.com/github/PGrabinski/XRayPneumonia/blob/master/X_Ray.ipynb)"
      ]
    },
    {
      "metadata": {
        "id": "mMUKKD5R88cb",
        "colab_type": "text"
      },
      "cell_type": "markdown",
      "source": [
        "# Chest X-Ray images dataset\n",
        "### Pneumonia detection model\n",
        "\n",
        "Dataset taken from [Kaggle Datasets: Chest X-Ray Images (Pneumonia)](https://www.kaggle.com/paultimothymooney/chest-xray-pneumonia).\n",
        "\n",
        "The dataset contains 5683 X-Ray images divided into two classes: *normal* and *pneumonia*.\n",
        "With addition that the pneumonia can be caused either by bacteria or by viruses what changes the pictured tissues in two different ways.\n",
        "\n",
        "![Chest X-Ray examples](https://i.imgur.com/jZqpV51.png)\n",
        "\n"
      ]
    },
    {
      "metadata": {
        "id": "ZuEuum07RLOe",
        "colab_type": "text"
      },
      "cell_type": "markdown",
      "source": [
        "Originally this set is divided into train, validation and test sets. But the validation set contains only $8+8$ samples with a bad statistics what leads to inefficient validation. To bypass the problem, I copied the validation set into the train and started using cross validation."
      ]
    },
    {
      "metadata": {
        "id": "HnCVx1l_Qegb",
        "colab_type": "text"
      },
      "cell_type": "markdown",
      "source": [
        "## Data download\n",
        "I store the dataset on my Google Drive. To get this data into to VM, I download it via PyDrive into the corresponing folders"
      ]
    },
    {
      "metadata": {
        "id": "ek_bjFBbD8zv",
        "colab_type": "code",
        "colab": {}
      },
      "cell_type": "code",
      "source": [
        "def driveSetUp():\n",
        "  !pip install -U -q PyDrive\n",
        "  from pydrive.auth import GoogleAuth\n",
        "  from pydrive.drive import GoogleDrive\n",
        "  from google.colab import auth\n",
        "  from oauth2client.client import GoogleCredentials\n",
        "\n",
        "  auth.authenticate_user()\n",
        "  gauth = GoogleAuth()\n",
        "  gauth.credentials = GoogleCredentials.get_application_default()\n",
        "  drive = GoogleDrive(gauth)\n",
        "  return drive\n",
        "drive = driveSetUp()"
      ],
      "execution_count": 0,
      "outputs": []
    },
    {
      "metadata": {
        "id": "mDZsq7668_9y",
        "colab_type": "code",
        "colab": {}
      },
      "cell_type": "code",
      "source": [
        "def downloadFilesFromFolderByID(folder_id, folder_name):\n",
        "  drive = driveSetUp()\n",
        "  import os, sys\n",
        "  os.makedirs(os.path.join(folder_name, 'normal'), exist_ok=True)\n",
        "  os.makedirs(os.path.join(folder_name, 'virus'), exist_ok=True)\n",
        "  os.makedirs(os.path.join(folder_name, 'bacteria'), exist_ok=True)\n",
        "  listed = drive.ListFile({'q': \"'{}' in parents and trashed=false\".format(folder_id)}).GetList()\n",
        "  for i, file in enumerate(listed):\n",
        "    file = drive.CreateFile({'id':file['id']})\n",
        "    file_path = folder_name + '/'\n",
        "    if 'virus' in file['title']:\n",
        "      file_path += 'virus/virus{}'.format(i)\n",
        "    elif 'bacteria' in file['title']:\n",
        "      file_path += 'bacteria/bacteria{}'.format(i)\n",
        "    else:\n",
        "      file_path += 'normal/normal{}'.format(i)\n",
        "    file.GetContentFile('{}.jpg'.format(file_path))\n",
        "  print('Files from the folder of id: {} have been downloaded into {}.'.format(folder_id, folder_name))"
      ],
      "execution_count": 0,
      "outputs": []
    },
    {
      "metadata": {
        "id": "wX3j-Kg5Grcc",
        "colab_type": "code",
        "colab": {}
      },
      "cell_type": "code",
      "source": [
        "folders_to_download = [\n",
        "#     {'id': '1EbT3bes4ONvGQvfI9oI_d-kmV42vYsU_', 'name': 'test'}, #NORMAL\n",
        "#     {'id': '1jerX6X-ugSY8KqNbDO6hDOdarncp-8Di', 'name': 'test'}, #PNEUMONIA\n",
        "     {'id': '1onNxF1RQ6Eex7snIs2NPFuO7qcFLGb_c', 'name': 'train'}, #NORMAL\n",
        "    {'id': '1pXT_pdjWjHNJ5JleOD0dTviafaUWfSGF', 'name': 'train'}, #PNEUMONIA\n",
        "]"
      ],
      "execution_count": 0,
      "outputs": []
    },
    {
      "metadata": {
        "id": "tNp0p9omF7BC",
        "colab_type": "code",
        "colab": {
          "base_uri": "https://localhost:8080/",
          "height": 53
        },
        "outputId": "60308250-5755-4ce5-e67c-8cef7bec80e9"
      },
      "cell_type": "code",
      "source": [
        "for folder in folders_to_download:\n",
        "  downloadFilesFromFolderByID(folder['id'], folder['name'])"
      ],
      "execution_count": 4,
      "outputs": [
        {
          "output_type": "stream",
          "text": [
            "Files from the folder of id: 1onNxF1RQ6Eex7snIs2NPFuO7qcFLGb_c have been downloaded into train.\n",
            "Files from the folder of id: 1pXT_pdjWjHNJ5JleOD0dTviafaUWfSGF have been downloaded into train.\n"
          ],
          "name": "stdout"
        }
      ]
    },
    {
      "metadata": {
        "id": "FmFQ83jWRm5R",
        "colab_type": "text"
      },
      "cell_type": "markdown",
      "source": [
        "## Data loading\n",
        "Here, we load the downloaded images and immediatly rescale them into $300\\times 210$ resolution. Some of the images are in three RGB channels and some are in the greyscale single chanel. We cast the single chanel into the RGB format."
      ]
    },
    {
      "metadata": {
        "id": "sW3cPw8LHf9r",
        "colab_type": "code",
        "colab": {
          "base_uri": "https://localhost:8080/",
          "height": 109
        },
        "outputId": "8946b3aa-b081-488c-c733-840ee884c8a6"
      },
      "cell_type": "code",
      "source": [
        "import os\n",
        "import numpy as np\n",
        "from scipy import misc\n",
        "from scipy import ndimage\n",
        "import matplotlib.pylab as pylab\n",
        "from keras.utils.np_utils import to_categorical\n",
        "\n",
        "def loadImages(path, new_size=(150, 105)):\n",
        "  images = []\n",
        "  files = os.listdir(path)\n",
        "  for file in files:\n",
        "      temp_img = misc.imread(os.path.join(path, file))\n",
        "      resized_img = misc.imresize(temp_img, new_size)\n",
        "      if len(resized_img.shape) == 2:\n",
        "        resized_img = np.stack((resized_img,)*3, axis=-1)\n",
        "      images.append(resized_img)\n",
        "  images_array = np.array(images)\n",
        "  return images_array\n",
        "\n",
        "def loadData():\n",
        "  train_normal = loadImages('train/normal')\n",
        "  train_virus = loadImages('train/virus')\n",
        "  train_bacteria = loadImages('train/bacteria')\n",
        "  \n",
        "#   test_normal = loadImages('test/normal')\n",
        "#   test_virus = loadImages('test/virus')\n",
        "#   test_bacteria = loadImages('test/bacteria')\n",
        "  \n",
        "  train_targets = np.zeros(len(train_normal) + len(train_virus) + len(train_bacteria))\n",
        "  train_targets[len(train_normal):len(train_normal)+len(train_virus)] = 1\n",
        "  train_targets[len(train_normal)+len(train_virus):] = 2\n",
        "  train_targets = to_categorical(train_targets)\n",
        "  \n",
        "#   test_targets = np.zeros(len(test_normal) + len(test_virus) + len(test_bacteria))\n",
        "#   test_targets[len(test_normal):len(test_virus)] = 1\n",
        "#   test_targets[len(test_virus):len(test_bacteria)] = 2\n",
        "#   test_targets = to_categorical(test_targets)\n",
        "                           \n",
        "  \n",
        "  train = np.concatenate((train_normal, train_virus, train_bacteria)).astype('float32')/255\n",
        "#   test = np.concatenate((test_normal, test_virus, test_bacteria)).astype('float32')/255\n",
        "  \n",
        "  return train, train_targets#(train, train_targets, test, test_targets)\n",
        "\n",
        "train_images, train_targets = loadData()\n",
        "# (train_images, train_targets, test_images, test_targets) = loadData()"
      ],
      "execution_count": 7,
      "outputs": [
        {
          "output_type": "stream",
          "text": [
            "/usr/local/lib/python3.6/dist-packages/scipy/misc/pilutil.py:482: FutureWarning: Conversion of the second argument of issubdtype from `int` to `np.signedinteger` is deprecated. In future, it will be treated as `np.int64 == np.dtype(int).type`.\n",
            "  if issubdtype(ts, int):\n",
            "/usr/local/lib/python3.6/dist-packages/scipy/misc/pilutil.py:485: FutureWarning: Conversion of the second argument of issubdtype from `float` to `np.floating` is deprecated. In future, it will be treated as `np.float64 == np.dtype(float).type`.\n",
            "  elif issubdtype(type(size), float):\n"
          ],
          "name": "stderr"
        }
      ]
    },
    {
      "metadata": {
        "id": "ID3N6IlSRr1x",
        "colab_type": "text"
      },
      "cell_type": "markdown",
      "source": [
        "## Model definition"
      ]
    },
    {
      "metadata": {
        "id": "hrCriWsAXgzS",
        "colab_type": "code",
        "colab": {}
      },
      "cell_type": "code",
      "source": [
        "from keras import models\n",
        "from keras import layers\n",
        "from keras import optimizers\n",
        "import numpy as np\n",
        "\n",
        "def generateModel():\n",
        "  model = models.Sequential()\n",
        "  model.add(layers.Conv2D(16, (3,3), activation='relu', input_shape=(150, 105, 3)))\n",
        "  model.add(layers.MaxPooling2D((2,2)))\n",
        "  model.add(layers.Conv2D(32, (3,3), activation='relu'))\n",
        "  model.add(layers.MaxPooling2D((2,2)))\n",
        "  model.add(layers.Conv2D(64, (3,3), activation='relu'))\n",
        "  model.add(layers.MaxPooling2D((2,2)))\n",
        "  model.add(layers.Conv2D(64, (3,3), activation='relu'))\n",
        "  model.add(layers.MaxPooling2D((2,2)))\n",
        "  model.add(layers.Flatten())\n",
        "  model.add(layers.Dropout(0.5))\n",
        "  model.add(layers.Dense(256, activation='relu'))\n",
        "  model.add(layers.Dense(3, activation='softmax'))\n",
        "#   model.summary()\n",
        "  model.compile(optimizer = optimizers.RMSprop(lr=1e-5), loss = 'categorical_crossentropy', metrics=['acc'])\n",
        "  return model"
      ],
      "execution_count": 0,
      "outputs": []
    },
    {
      "metadata": {
        "id": "yq2phJcmR26v",
        "colab_type": "text"
      },
      "cell_type": "markdown",
      "source": [
        "## Scikit-learn cross validation and learning"
      ]
    },
    {
      "metadata": {
        "id": "Lp9ru5o-R6ky",
        "colab_type": "code",
        "colab": {
          "base_uri": "https://localhost:8080/",
          "height": 244
        },
        "collapsed": true,
        "outputId": "3ce451ec-9c2a-44ea-ebcc-654629161678"
      },
      "cell_type": "code",
      "source": [
        "from sklearn.model_selection import StratifiedKFold as SKF\n",
        "from keras.wrappers.scikit_learn import KerasClassifier\n",
        "from sklearn.model_selection import cross_val_score\n",
        "\n",
        "model = KerasClassifier(build_fn=generateModel, epochs=30, batch_size=1, verbose=0)\n",
        "skf = SKF(n_splits=5, shuffle=True, random_state=1)\n",
        "results = cross_val_score(model, train_images, train_targets, cv=skf)\n",
        "print(results)\n",
        "print(results.mean())"
      ],
      "execution_count": 3,
      "outputs": [
        {
          "output_type": "error",
          "ename": "NameError",
          "evalue": "ignored",
          "traceback": [
            "\u001b[0;31m---------------------------------------------------------------------------\u001b[0m",
            "\u001b[0;31mNameError\u001b[0m                                 Traceback (most recent call last)",
            "\u001b[0;32m<ipython-input-3-6577e902e321>\u001b[0m in \u001b[0;36m<module>\u001b[0;34m()\u001b[0m\n\u001b[1;32m      5\u001b[0m \u001b[0mmodel\u001b[0m \u001b[0;34m=\u001b[0m \u001b[0mKerasClassifier\u001b[0m\u001b[0;34m(\u001b[0m\u001b[0mbuild_fn\u001b[0m\u001b[0;34m=\u001b[0m\u001b[0mgenerateModel\u001b[0m\u001b[0;34m,\u001b[0m \u001b[0mepochs\u001b[0m\u001b[0;34m=\u001b[0m\u001b[0;36m30\u001b[0m\u001b[0;34m,\u001b[0m \u001b[0mbatch_size\u001b[0m\u001b[0;34m=\u001b[0m\u001b[0;36m1\u001b[0m\u001b[0;34m,\u001b[0m \u001b[0mverbose\u001b[0m\u001b[0;34m=\u001b[0m\u001b[0;36m0\u001b[0m\u001b[0;34m)\u001b[0m\u001b[0;34m\u001b[0m\u001b[0m\n\u001b[1;32m      6\u001b[0m \u001b[0mskf\u001b[0m \u001b[0;34m=\u001b[0m \u001b[0mSKF\u001b[0m\u001b[0;34m(\u001b[0m\u001b[0mn_splits\u001b[0m\u001b[0;34m=\u001b[0m\u001b[0;36m5\u001b[0m\u001b[0;34m,\u001b[0m \u001b[0mshuffle\u001b[0m\u001b[0;34m=\u001b[0m\u001b[0;32mTrue\u001b[0m\u001b[0;34m,\u001b[0m \u001b[0mrandom_state\u001b[0m\u001b[0;34m=\u001b[0m\u001b[0;36m1\u001b[0m\u001b[0;34m)\u001b[0m\u001b[0;34m\u001b[0m\u001b[0m\n\u001b[0;32m----> 7\u001b[0;31m \u001b[0mresults\u001b[0m \u001b[0;34m=\u001b[0m \u001b[0mcross_val_score\u001b[0m\u001b[0;34m(\u001b[0m\u001b[0mmodel\u001b[0m\u001b[0;34m,\u001b[0m \u001b[0mtrain_images\u001b[0m\u001b[0;34m,\u001b[0m \u001b[0mtrain_targets\u001b[0m\u001b[0;34m,\u001b[0m \u001b[0mcv\u001b[0m\u001b[0;34m=\u001b[0m\u001b[0mskf\u001b[0m\u001b[0;34m)\u001b[0m\u001b[0;34m\u001b[0m\u001b[0m\n\u001b[0m\u001b[1;32m      8\u001b[0m \u001b[0mprint\u001b[0m\u001b[0;34m(\u001b[0m\u001b[0mresults\u001b[0m\u001b[0;34m)\u001b[0m\u001b[0;34m\u001b[0m\u001b[0m\n\u001b[1;32m      9\u001b[0m \u001b[0mprint\u001b[0m\u001b[0;34m(\u001b[0m\u001b[0mresults\u001b[0m\u001b[0;34m.\u001b[0m\u001b[0mmean\u001b[0m\u001b[0;34m(\u001b[0m\u001b[0;34m)\u001b[0m\u001b[0;34m)\u001b[0m\u001b[0;34m\u001b[0m\u001b[0m\n",
            "\u001b[0;31mNameError\u001b[0m: name 'train_images' is not defined"
          ]
        }
      ]
    },
    {
      "metadata": {
        "id": "NWhwd5wwOzTm",
        "colab_type": "text"
      },
      "cell_type": "markdown",
      "source": [
        "Problem with this approach is that we get only the epoch $30$ accuracy not the whole history over all epochs. This is the reason why I write my own k-folding."
      ]
    },
    {
      "metadata": {
        "id": "xD-bk1cyQ-nq",
        "colab_type": "text"
      },
      "cell_type": "markdown",
      "source": [
        "## Self-written k-folding"
      ]
    },
    {
      "metadata": {
        "id": "02ejE3wWPMOs",
        "colab_type": "code",
        "colab": {}
      },
      "cell_type": "code",
      "source": [
        "from sklearn.utils import shuffle\n",
        "\n",
        "def kFolding(k, modelGenerator, epochs, X, y):\n",
        "  histories = []\n",
        "  X_shuffled, y_shuffled = shuffle(X, y)\n",
        "  partXLen = X_shuffled.shape[0]//k\n",
        "  partyLen = y_shuffled.shape[0]//k\n",
        "  for i in range(k):\n",
        "    valX = X_shuffled[i * partXLen : (i + 1) * partXLen]\n",
        "    trainX = np.concatenate([X_shuffled[: i * partXLen], X_shuffled[(i + 1) * partXLen:]])\n",
        "    \n",
        "    valy = y_shuffled[i * partyLen : (i + 1) * partyLen]\n",
        "    trainy = np.concatenate([y_shuffled[: i * partyLen], y_shuffled[(i + 1) * partyLen:]])\n",
        "    \n",
        "    model = modelGenerator()\n",
        "    history = model.fit(trainX, trainy, epochs=epochs, batch_size = 1, validation_data=(valX, valy))\n",
        "    histories.append(history)\n",
        "    print('Fold {} done. Final accuracy: {}.'.format((i + 1),history.history['val_acc'][-1]))\n",
        "  return histories\n",
        "  "
      ],
      "execution_count": 0,
      "outputs": []
    },
    {
      "metadata": {
        "id": "RBPBMNynQvPY",
        "colab_type": "text"
      },
      "cell_type": "markdown",
      "source": [
        "### K=5 epochs=30"
      ]
    },
    {
      "metadata": {
        "id": "nWRTKtfeUy9S",
        "colab_type": "code",
        "colab": {
          "base_uri": "https://localhost:8080/",
          "height": 5687
        },
        "outputId": "5db89b70-4c49-4e63-e4b8-012497d37ee6"
      },
      "cell_type": "code",
      "source": [
        "histories = kFolding(5, generateModel, 30, train_images, train_targets)"
      ],
      "execution_count": 11,
      "outputs": [
        {
          "output_type": "stream",
          "text": [
            "(1052, 150, 105, 3) (1052, 3)\n",
            "Train on 4212 samples, validate on 1052 samples\n",
            "Epoch 1/30\n",
            "3144/4212 [=====================>........] - ETA: 10s - loss: 1.0651 - acc: 0.4723"
          ],
          "name": "stdout"
        },
        {
          "output_type": "stream",
          "text": [
            "4212/4212 [==============================] - 46s 11ms/step - loss: 1.0593 - acc: 0.4782 - val_loss: 1.0464 - val_acc: 0.4753\n",
            "Epoch 2/30\n",
            "2080/4212 [=============>................] - ETA: 21s - loss: 1.0273 - acc: 0.4962"
          ],
          "name": "stdout"
        },
        {
          "output_type": "stream",
          "text": [
            "4212/4212 [==============================] - 45s 11ms/step - loss: 1.0164 - acc: 0.4893 - val_loss: 0.9734 - val_acc: 0.4886\n",
            "Epoch 3/30\n",
            "1702/4212 [===========>..................] - ETA: 25s - loss: 0.9341 - acc: 0.5582"
          ],
          "name": "stdout"
        },
        {
          "output_type": "stream",
          "text": [
            "4212/4212 [==============================] - 45s 11ms/step - loss: 0.9060 - acc: 0.5869 - val_loss: 0.8399 - val_acc: 0.6312\n",
            "Epoch 4/30\n",
            "1572/4212 [==========>...................] - ETA: 26s - loss: 0.8359 - acc: 0.6215"
          ],
          "name": "stdout"
        },
        {
          "output_type": "stream",
          "text": [
            "4212/4212 [==============================] - 45s 11ms/step - loss: 0.8131 - acc: 0.6303 - val_loss: 0.7793 - val_acc: 0.6426\n",
            "Epoch 5/30\n",
            "1511/4212 [=========>....................] - ETA: 27s - loss: 0.7783 - acc: 0.6532"
          ],
          "name": "stdout"
        },
        {
          "output_type": "stream",
          "text": [
            "4212/4212 [==============================] - 45s 11ms/step - loss: 0.7765 - acc: 0.6462 - val_loss: 0.7522 - val_acc: 0.6521\n",
            "Epoch 6/30\n",
            "1459/4212 [=========>....................] - ETA: 27s - loss: 0.7700 - acc: 0.6470"
          ],
          "name": "stdout"
        },
        {
          "output_type": "stream",
          "text": [
            "4212/4212 [==============================] - 45s 11ms/step - loss: 0.7595 - acc: 0.6538 - val_loss: 0.7344 - val_acc: 0.6625\n",
            "Epoch 7/30\n",
            "1487/4212 [=========>....................] - ETA: 27s - loss: 0.7421 - acc: 0.6631"
          ],
          "name": "stdout"
        },
        {
          "output_type": "stream",
          "text": [
            "4212/4212 [==============================] - 45s 11ms/step - loss: 0.7480 - acc: 0.6569 - val_loss: 0.7125 - val_acc: 0.6740\n",
            "Epoch 8/30\n",
            "1447/4212 [=========>....................] - ETA: 27s - loss: 0.7367 - acc: 0.6669"
          ],
          "name": "stdout"
        },
        {
          "output_type": "stream",
          "text": [
            "4212/4212 [==============================] - 45s 11ms/step - loss: 0.7294 - acc: 0.6750 - val_loss: 0.7378 - val_acc: 0.6587\n",
            "Epoch 9/30\n",
            "1485/4212 [=========>....................] - ETA: 27s - loss: 0.7330 - acc: 0.6795"
          ],
          "name": "stdout"
        },
        {
          "output_type": "stream",
          "text": [
            "4212/4212 [==============================] - 45s 11ms/step - loss: 0.7181 - acc: 0.6809 - val_loss: 0.6827 - val_acc: 0.7025\n",
            "Epoch 10/30\n",
            "1450/4212 [=========>....................] - ETA: 28s - loss: 0.7174 - acc: 0.6917"
          ],
          "name": "stdout"
        },
        {
          "output_type": "stream",
          "text": [
            "4212/4212 [==============================] - 45s 11ms/step - loss: 0.7042 - acc: 0.6963 - val_loss: 0.6744 - val_acc: 0.7034\n",
            "Epoch 11/30\n",
            "1472/4212 [=========>....................] - ETA: 27s - loss: 0.7072 - acc: 0.6984"
          ],
          "name": "stdout"
        },
        {
          "output_type": "stream",
          "text": [
            "4212/4212 [==============================] - 45s 11ms/step - loss: 0.6985 - acc: 0.7001 - val_loss: 0.6708 - val_acc: 0.7101\n",
            "Epoch 12/30\n",
            "1456/4212 [=========>....................] - ETA: 27s - loss: 0.6977 - acc: 0.6971"
          ],
          "name": "stdout"
        },
        {
          "output_type": "stream",
          "text": [
            "4212/4212 [==============================] - 45s 11ms/step - loss: 0.6859 - acc: 0.7032 - val_loss: 0.6529 - val_acc: 0.7177\n",
            "Epoch 13/30\n",
            "1450/4212 [=========>....................] - ETA: 27s - loss: 0.6868 - acc: 0.7103"
          ],
          "name": "stdout"
        },
        {
          "output_type": "stream",
          "text": [
            "4212/4212 [==============================] - 45s 11ms/step - loss: 0.6755 - acc: 0.7075 - val_loss: 0.6456 - val_acc: 0.7186\n",
            "Epoch 14/30\n",
            "1441/4212 [=========>....................] - ETA: 28s - loss: 0.6662 - acc: 0.7259"
          ],
          "name": "stdout"
        },
        {
          "output_type": "stream",
          "text": [
            "4212/4212 [==============================] - 46s 11ms/step - loss: 0.6685 - acc: 0.7132 - val_loss: 0.6751 - val_acc: 0.7272\n",
            "Epoch 15/30\n",
            "1459/4212 [=========>....................] - ETA: 27s - loss: 0.6643 - acc: 0.7183"
          ],
          "name": "stdout"
        },
        {
          "output_type": "stream",
          "text": [
            "4212/4212 [==============================] - 45s 11ms/step - loss: 0.6649 - acc: 0.7213 - val_loss: 0.6372 - val_acc: 0.7386\n",
            "Epoch 16/30\n",
            "1449/4212 [=========>....................] - ETA: 27s - loss: 0.6585 - acc: 0.7191"
          ],
          "name": "stdout"
        },
        {
          "output_type": "stream",
          "text": [
            "4212/4212 [==============================] - 46s 11ms/step - loss: 0.6598 - acc: 0.7236 - val_loss: 0.6151 - val_acc: 0.7424\n",
            "Epoch 17/30\n",
            "1335/4212 [========>.....................] - ETA: 30s - loss: 0.6221 - acc: 0.7468"
          ],
          "name": "stdout"
        },
        {
          "output_type": "stream",
          "text": [
            "4212/4212 [==============================] - 47s 11ms/step - loss: 0.6483 - acc: 0.7334 - val_loss: 0.6090 - val_acc: 0.7462\n",
            "Epoch 18/30\n",
            "1242/4212 [=======>......................] - ETA: 31s - loss: 0.6605 - acc: 0.7303"
          ],
          "name": "stdout"
        },
        {
          "output_type": "stream",
          "text": [
            "4212/4212 [==============================] - 48s 11ms/step - loss: 0.6427 - acc: 0.7289 - val_loss: 0.6068 - val_acc: 0.7471\n",
            "Epoch 19/30\n",
            "1170/4212 [=======>......................] - ETA: 32s - loss: 0.6505 - acc: 0.7376"
          ],
          "name": "stdout"
        },
        {
          "output_type": "stream",
          "text": [
            "4212/4212 [==============================] - 48s 11ms/step - loss: 0.6328 - acc: 0.7407 - val_loss: 0.5909 - val_acc: 0.7538\n",
            "Epoch 20/30\n",
            "1146/4212 [=======>......................] - ETA: 32s - loss: 0.6360 - acc: 0.7225"
          ],
          "name": "stdout"
        },
        {
          "output_type": "stream",
          "text": [
            "4212/4212 [==============================] - 47s 11ms/step - loss: 0.6306 - acc: 0.7372 - val_loss: 0.5942 - val_acc: 0.7529\n",
            "Epoch 21/30\n",
            "1165/4212 [=======>......................] - ETA: 32s - loss: 0.6187 - acc: 0.7459"
          ],
          "name": "stdout"
        },
        {
          "output_type": "stream",
          "text": [
            "4212/4212 [==============================] - 48s 11ms/step - loss: 0.6266 - acc: 0.7441 - val_loss: 0.6068 - val_acc: 0.7595\n",
            "Epoch 22/30\n",
            "1159/4212 [=======>......................] - ETA: 32s - loss: 0.6131 - acc: 0.7498"
          ],
          "name": "stdout"
        },
        {
          "output_type": "stream",
          "text": [
            "4212/4212 [==============================] - 48s 11ms/step - loss: 0.6222 - acc: 0.7393 - val_loss: 0.6373 - val_acc: 0.7338\n",
            "Epoch 23/30\n",
            "1135/4212 [=======>......................] - ETA: 32s - loss: 0.6357 - acc: 0.7427"
          ],
          "name": "stdout"
        },
        {
          "output_type": "stream",
          "text": [
            "4212/4212 [==============================] - 48s 11ms/step - loss: 0.6149 - acc: 0.7467 - val_loss: 0.5710 - val_acc: 0.7624\n",
            "Epoch 24/30\n",
            "1145/4212 [=======>......................] - ETA: 32s - loss: 0.6131 - acc: 0.7502"
          ],
          "name": "stdout"
        },
        {
          "output_type": "stream",
          "text": [
            "4212/4212 [==============================] - 48s 11ms/step - loss: 0.6121 - acc: 0.7472 - val_loss: 0.5654 - val_acc: 0.7643\n",
            "Epoch 25/30\n",
            "1165/4212 [=======>......................] - ETA: 32s - loss: 0.6023 - acc: 0.7571"
          ],
          "name": "stdout"
        },
        {
          "output_type": "stream",
          "text": [
            "4212/4212 [==============================] - 48s 11ms/step - loss: 0.6105 - acc: 0.7500 - val_loss: 0.6022 - val_acc: 0.7529\n",
            "Epoch 26/30\n",
            "1158/4212 [=======>......................] - ETA: 32s - loss: 0.5984 - acc: 0.7556"
          ],
          "name": "stdout"
        },
        {
          "output_type": "stream",
          "text": [
            "4212/4212 [==============================] - 48s 11ms/step - loss: 0.6067 - acc: 0.7479 - val_loss: 0.5613 - val_acc: 0.7690\n",
            "Epoch 27/30\n",
            "1146/4212 [=======>......................] - ETA: 32s - loss: 0.6089 - acc: 0.7583"
          ],
          "name": "stdout"
        },
        {
          "output_type": "stream",
          "text": [
            "4212/4212 [==============================] - 48s 11ms/step - loss: 0.6060 - acc: 0.7540 - val_loss: 0.5947 - val_acc: 0.7567\n",
            "Epoch 28/30\n",
            "1148/4212 [=======>......................] - ETA: 32s - loss: 0.5952 - acc: 0.7709"
          ],
          "name": "stdout"
        },
        {
          "output_type": "stream",
          "text": [
            "4212/4212 [==============================] - 48s 11ms/step - loss: 0.5952 - acc: 0.7614 - val_loss: 0.6083 - val_acc: 0.7643\n",
            "Epoch 29/30\n",
            "1149/4212 [=======>......................] - ETA: 32s - loss: 0.6131 - acc: 0.7319"
          ],
          "name": "stdout"
        },
        {
          "output_type": "stream",
          "text": [
            "4212/4212 [==============================] - 47s 11ms/step - loss: 0.5999 - acc: 0.7536 - val_loss: 0.5780 - val_acc: 0.7690\n",
            "Epoch 30/30\n",
            "1223/4212 [=======>......................] - ETA: 30s - loss: 0.5808 - acc: 0.7629"
          ],
          "name": "stdout"
        },
        {
          "output_type": "stream",
          "text": [
            "4212/4212 [==============================] - 46s 11ms/step - loss: 0.5951 - acc: 0.7545 - val_loss: 0.6113 - val_acc: 0.7652\n",
            "Fold 0 done. Final accuracy: 0.7545109211775879.\n",
            "(1052, 150, 105, 3) (1052, 3)\n",
            "Train on 4212 samples, validate on 1052 samples\n",
            "Epoch 1/30\n",
            " 833/4212 [====>.........................] - ETA: 35s - loss: 1.0659 - acc: 0.4682"
          ],
          "name": "stdout"
        },
        {
          "output_type": "stream",
          "text": [
            "4212/4212 [==============================] - 46s 11ms/step - loss: 1.0626 - acc: 0.4779 - val_loss: 1.0427 - val_acc: 0.4829\n",
            "Epoch 2/30\n",
            "1130/4212 [=======>......................] - ETA: 32s - loss: 1.0375 - acc: 0.4991"
          ],
          "name": "stdout"
        },
        {
          "output_type": "stream",
          "text": [
            "4212/4212 [==============================] - 46s 11ms/step - loss: 1.0222 - acc: 0.4858 - val_loss: 0.9725 - val_acc: 0.4886\n",
            "Epoch 3/30\n",
            "1280/4212 [========>.....................] - ETA: 30s - loss: 0.9513 - acc: 0.5398"
          ],
          "name": "stdout"
        },
        {
          "output_type": "stream",
          "text": [
            "4212/4212 [==============================] - 46s 11ms/step - loss: 0.9183 - acc: 0.5729 - val_loss: 0.8281 - val_acc: 0.6587\n",
            "Epoch 4/30\n",
            "1301/4212 [========>.....................] - ETA: 29s - loss: 0.8517 - acc: 0.6172"
          ],
          "name": "stdout"
        },
        {
          "output_type": "stream",
          "text": [
            "4212/4212 [==============================] - 47s 11ms/step - loss: 0.8191 - acc: 0.6289 - val_loss: 0.7548 - val_acc: 0.6673\n",
            "Epoch 5/30\n",
            "1344/4212 [========>.....................] - ETA: 28s - loss: 0.7851 - acc: 0.6347"
          ],
          "name": "stdout"
        },
        {
          "output_type": "stream",
          "text": [
            "4212/4212 [==============================] - 46s 11ms/step - loss: 0.7732 - acc: 0.6372 - val_loss: 0.7252 - val_acc: 0.6778\n",
            "Epoch 6/30\n",
            "1334/4212 [========>.....................] - ETA: 29s - loss: 0.7434 - acc: 0.6582"
          ],
          "name": "stdout"
        },
        {
          "output_type": "stream",
          "text": [
            "4212/4212 [==============================] - 46s 11ms/step - loss: 0.7478 - acc: 0.6565 - val_loss: 0.7127 - val_acc: 0.6949\n",
            "Epoch 7/30\n",
            "1343/4212 [========>.....................] - ETA: 29s - loss: 0.7079 - acc: 0.6731"
          ],
          "name": "stdout"
        },
        {
          "output_type": "stream",
          "text": [
            "4212/4212 [==============================] - 46s 11ms/step - loss: 0.7281 - acc: 0.6686 - val_loss: 0.8519 - val_acc: 0.6264\n",
            "Epoch 8/30\n",
            "1341/4212 [========>.....................] - ETA: 29s - loss: 0.6932 - acc: 0.6920"
          ],
          "name": "stdout"
        },
        {
          "output_type": "stream",
          "text": [
            "4212/4212 [==============================] - 46s 11ms/step - loss: 0.7077 - acc: 0.6835 - val_loss: 0.6606 - val_acc: 0.7205\n",
            "Epoch 9/30\n",
            "1373/4212 [========>.....................] - ETA: 28s - loss: 0.6998 - acc: 0.6824"
          ],
          "name": "stdout"
        },
        {
          "output_type": "stream",
          "text": [
            "4212/4212 [==============================] - 46s 11ms/step - loss: 0.6921 - acc: 0.7020 - val_loss: 0.6425 - val_acc: 0.7357\n",
            "Epoch 10/30\n",
            "1376/4212 [========>.....................] - ETA: 28s - loss: 0.6543 - acc: 0.7115"
          ],
          "name": "stdout"
        },
        {
          "output_type": "stream",
          "text": [
            "4212/4212 [==============================] - 46s 11ms/step - loss: 0.6693 - acc: 0.7123 - val_loss: 0.7817 - val_acc: 0.6673\n",
            "Epoch 11/30\n",
            "1388/4212 [========>.....................] - ETA: 28s - loss: 0.6703 - acc: 0.7118"
          ],
          "name": "stdout"
        },
        {
          "output_type": "stream",
          "text": [
            "4212/4212 [==============================] - 46s 11ms/step - loss: 0.6577 - acc: 0.7194 - val_loss: 0.6225 - val_acc: 0.7357\n",
            "Epoch 12/30\n",
            "1374/4212 [========>.....................] - ETA: 29s - loss: 0.6214 - acc: 0.7307"
          ],
          "name": "stdout"
        },
        {
          "output_type": "stream",
          "text": [
            "4212/4212 [==============================] - 46s 11ms/step - loss: 0.6480 - acc: 0.7260 - val_loss: 0.6020 - val_acc: 0.7605\n",
            "Epoch 13/30\n",
            "1353/4212 [========>.....................] - ETA: 29s - loss: 0.6123 - acc: 0.7369"
          ],
          "name": "stdout"
        },
        {
          "output_type": "stream",
          "text": [
            "4212/4212 [==============================] - 46s 11ms/step - loss: 0.6387 - acc: 0.7274 - val_loss: 0.6003 - val_acc: 0.7557\n",
            "Epoch 14/30\n",
            "1368/4212 [========>.....................] - ETA: 29s - loss: 0.6052 - acc: 0.7456"
          ],
          "name": "stdout"
        },
        {
          "output_type": "stream",
          "text": [
            "4212/4212 [==============================] - 46s 11ms/step - loss: 0.6247 - acc: 0.7386 - val_loss: 0.5881 - val_acc: 0.7471\n",
            "Epoch 15/30\n",
            "1404/4212 [=========>....................] - ETA: 27s - loss: 0.6298 - acc: 0.7358"
          ],
          "name": "stdout"
        },
        {
          "output_type": "stream",
          "text": [
            "4212/4212 [==============================] - 46s 11ms/step - loss: 0.6273 - acc: 0.7391 - val_loss: 0.6068 - val_acc: 0.7519\n",
            "Epoch 16/30\n",
            "1345/4212 [========>.....................] - ETA: 29s - loss: 0.6229 - acc: 0.7398"
          ],
          "name": "stdout"
        },
        {
          "output_type": "stream",
          "text": [
            "4212/4212 [==============================] - 46s 11ms/step - loss: 0.6209 - acc: 0.7393 - val_loss: 0.6098 - val_acc: 0.7490\n",
            "Epoch 17/30\n",
            "1316/4212 [========>.....................] - ETA: 29s - loss: 0.6202 - acc: 0.7432"
          ],
          "name": "stdout"
        },
        {
          "output_type": "stream",
          "text": [
            "4212/4212 [==============================] - 47s 11ms/step - loss: 0.6188 - acc: 0.7412 - val_loss: 0.6037 - val_acc: 0.7605\n",
            "Epoch 18/30\n",
            "1259/4212 [=======>......................] - ETA: 30s - loss: 0.6008 - acc: 0.7538"
          ],
          "name": "stdout"
        },
        {
          "output_type": "stream",
          "text": [
            "4212/4212 [==============================] - 47s 11ms/step - loss: 0.6131 - acc: 0.7445 - val_loss: 0.5745 - val_acc: 0.7595\n",
            "Epoch 19/30\n",
            "1206/4212 [=======>......................] - ETA: 32s - loss: 0.6020 - acc: 0.7413"
          ],
          "name": "stdout"
        },
        {
          "output_type": "stream",
          "text": [
            "4212/4212 [==============================] - 48s 11ms/step - loss: 0.6023 - acc: 0.7555 - val_loss: 0.6077 - val_acc: 0.7471\n",
            "Epoch 20/30\n",
            "1201/4212 [=======>......................] - ETA: 31s - loss: 0.5823 - acc: 0.7610"
          ],
          "name": "stdout"
        },
        {
          "output_type": "stream",
          "text": [
            "4212/4212 [==============================] - 47s 11ms/step - loss: 0.6058 - acc: 0.7467 - val_loss: 0.5666 - val_acc: 0.7633\n",
            "Epoch 21/30\n",
            "1255/4212 [=======>......................] - ETA: 30s - loss: 0.5987 - acc: 0.7641"
          ],
          "name": "stdout"
        },
        {
          "output_type": "stream",
          "text": [
            "4212/4212 [==============================] - 47s 11ms/step - loss: 0.6007 - acc: 0.7540 - val_loss: 0.5742 - val_acc: 0.7671\n",
            "Epoch 22/30\n",
            "1274/4212 [========>.....................] - ETA: 30s - loss: 0.5995 - acc: 0.7512"
          ],
          "name": "stdout"
        },
        {
          "output_type": "stream",
          "text": [
            "4212/4212 [==============================] - 46s 11ms/step - loss: 0.6007 - acc: 0.7536 - val_loss: 0.6097 - val_acc: 0.7529\n",
            "Epoch 23/30\n",
            "1280/4212 [========>.....................] - ETA: 30s - loss: 0.5845 - acc: 0.7672"
          ],
          "name": "stdout"
        },
        {
          "output_type": "stream",
          "text": [
            "4212/4212 [==============================] - 46s 11ms/step - loss: 0.5893 - acc: 0.7626 - val_loss: 0.5732 - val_acc: 0.7700\n",
            "Epoch 24/30\n",
            "1288/4212 [========>.....................] - ETA: 30s - loss: 0.5702 - acc: 0.7733"
          ],
          "name": "stdout"
        },
        {
          "output_type": "stream",
          "text": [
            "4212/4212 [==============================] - 46s 11ms/step - loss: 0.5769 - acc: 0.7602 - val_loss: 0.6709 - val_acc: 0.7253\n",
            "Epoch 25/30\n",
            "1353/4212 [========>.....................] - ETA: 28s - loss: 0.5840 - acc: 0.7524"
          ],
          "name": "stdout"
        },
        {
          "output_type": "stream",
          "text": [
            "4212/4212 [==============================] - 46s 11ms/step - loss: 0.5799 - acc: 0.7588 - val_loss: 0.6287 - val_acc: 0.7443\n",
            "Epoch 26/30\n",
            "1352/4212 [========>.....................] - ETA: 29s - loss: 0.5805 - acc: 0.7678"
          ],
          "name": "stdout"
        },
        {
          "output_type": "stream",
          "text": [
            "4212/4212 [==============================] - 46s 11ms/step - loss: 0.5834 - acc: 0.7595 - val_loss: 0.5717 - val_acc: 0.7586\n",
            "Epoch 27/30\n",
            "1357/4212 [========>.....................] - ETA: 29s - loss: 0.5712 - acc: 0.7738"
          ],
          "name": "stdout"
        },
        {
          "output_type": "stream",
          "text": [
            "4212/4212 [==============================] - 46s 11ms/step - loss: 0.5796 - acc: 0.7647 - val_loss: 0.5467 - val_acc: 0.7690\n",
            "Epoch 28/30\n",
            "1369/4212 [========>.....................] - ETA: 28s - loss: 0.5409 - acc: 0.7845"
          ],
          "name": "stdout"
        },
        {
          "output_type": "stream",
          "text": [
            "4212/4212 [==============================] - 46s 11ms/step - loss: 0.5760 - acc: 0.7633 - val_loss: 0.5362 - val_acc: 0.7795\n",
            "Epoch 29/30\n",
            "1351/4212 [========>.....................] - ETA: 29s - loss: 0.5451 - acc: 0.7705"
          ],
          "name": "stdout"
        },
        {
          "output_type": "stream",
          "text": [
            "4212/4212 [==============================] - 46s 11ms/step - loss: 0.5728 - acc: 0.7697 - val_loss: 0.5868 - val_acc: 0.7719\n",
            "Epoch 30/30\n",
            "1327/4212 [========>.....................] - ETA: 29s - loss: 0.5465 - acc: 0.7882"
          ],
          "name": "stdout"
        },
        {
          "output_type": "stream",
          "text": [
            "4212/4212 [==============================] - 46s 11ms/step - loss: 0.5712 - acc: 0.7702 - val_loss: 0.5382 - val_acc: 0.7814\n",
            "Fold 1 done. Final accuracy: 0.7701804368471035.\n",
            "(1052, 150, 105, 3) (1052, 3)\n",
            "Train on 4212 samples, validate on 1052 samples\n",
            "Epoch 1/30\n",
            " 799/4212 [====>.........................] - ETA: 38s - loss: 1.0847 - acc: 0.4218"
          ],
          "name": "stdout"
        },
        {
          "output_type": "stream",
          "text": [
            "4212/4212 [==============================] - 47s 11ms/step - loss: 1.0508 - acc: 0.4767 - val_loss: 1.0304 - val_acc: 0.4696\n",
            "Epoch 2/30\n",
            "1136/4212 [=======>......................] - ETA: 31s - loss: 1.0179 - acc: 0.4912"
          ],
          "name": "stdout"
        },
        {
          "output_type": "stream",
          "text": [
            "4212/4212 [==============================] - 46s 11ms/step - loss: 0.9841 - acc: 0.5273 - val_loss: 0.9322 - val_acc: 0.6359\n",
            "Epoch 3/30\n",
            "1248/4212 [=======>......................] - ETA: 30s - loss: 0.9126 - acc: 0.5905"
          ],
          "name": "stdout"
        },
        {
          "output_type": "stream",
          "text": [
            "4212/4212 [==============================] - 47s 11ms/step - loss: 0.8568 - acc: 0.6292 - val_loss: 0.8321 - val_acc: 0.6198\n",
            "Epoch 4/30\n",
            "1268/4212 [========>.....................] - ETA: 30s - loss: 0.7866 - acc: 0.6538"
          ],
          "name": "stdout"
        },
        {
          "output_type": "stream",
          "text": [
            "4212/4212 [==============================] - 47s 11ms/step - loss: 0.7786 - acc: 0.6548 - val_loss: 0.7853 - val_acc: 0.6302\n",
            "Epoch 5/30\n",
            "1198/4212 [=======>......................] - ETA: 32s - loss: 0.7353 - acc: 0.6644"
          ],
          "name": "stdout"
        },
        {
          "output_type": "stream",
          "text": [
            "4212/4212 [==============================] - 49s 12ms/step - loss: 0.7353 - acc: 0.6705 - val_loss: 0.7426 - val_acc: 0.6426\n",
            "Epoch 6/30\n",
            "1170/4212 [=======>......................] - ETA: 32s - loss: 0.7102 - acc: 0.6726"
          ],
          "name": "stdout"
        },
        {
          "output_type": "stream",
          "text": [
            "4212/4212 [==============================] - 46s 11ms/step - loss: 0.7101 - acc: 0.6759 - val_loss: 0.7085 - val_acc: 0.6606\n",
            "Epoch 7/30\n",
            "1278/4212 [========>.....................] - ETA: 30s - loss: 0.7124 - acc: 0.6745"
          ],
          "name": "stdout"
        },
        {
          "output_type": "stream",
          "text": [
            "4212/4212 [==============================] - 46s 11ms/step - loss: 0.6897 - acc: 0.6885 - val_loss: 0.6899 - val_acc: 0.7101\n",
            "Epoch 8/30\n",
            "1279/4212 [========>.....................] - ETA: 30s - loss: 0.6774 - acc: 0.7029"
          ],
          "name": "stdout"
        },
        {
          "output_type": "stream",
          "text": [
            "4212/4212 [==============================] - 46s 11ms/step - loss: 0.6697 - acc: 0.7030 - val_loss: 0.6722 - val_acc: 0.6882\n",
            "Epoch 9/30\n",
            "1298/4212 [========>.....................] - ETA: 30s - loss: 0.6648 - acc: 0.6972"
          ],
          "name": "stdout"
        },
        {
          "output_type": "stream",
          "text": [
            "4212/4212 [==============================] - 47s 11ms/step - loss: 0.6542 - acc: 0.7160 - val_loss: 0.6791 - val_acc: 0.6977\n",
            "Epoch 10/30\n",
            "1242/4212 [=======>......................] - ETA: 31s - loss: 0.6864 - acc: 0.7093"
          ],
          "name": "stdout"
        },
        {
          "output_type": "stream",
          "text": [
            "4212/4212 [==============================] - 47s 11ms/step - loss: 0.6432 - acc: 0.7215 - val_loss: 0.6467 - val_acc: 0.7300\n",
            "Epoch 11/30\n",
            "1281/4212 [========>.....................] - ETA: 29s - loss: 0.6539 - acc: 0.7088"
          ],
          "name": "stdout"
        },
        {
          "output_type": "stream",
          "text": [
            "4212/4212 [==============================] - 46s 11ms/step - loss: 0.6320 - acc: 0.7260 - val_loss: 0.6401 - val_acc: 0.7348\n",
            "Epoch 12/30\n",
            "1296/4212 [========>.....................] - ETA: 30s - loss: 0.6412 - acc: 0.7245"
          ],
          "name": "stdout"
        },
        {
          "output_type": "stream",
          "text": [
            "4212/4212 [==============================] - 46s 11ms/step - loss: 0.6324 - acc: 0.7350 - val_loss: 0.6257 - val_acc: 0.7452\n",
            "Epoch 13/30\n",
            "1311/4212 [========>.....................] - ETA: 29s - loss: 0.6038 - acc: 0.7315"
          ],
          "name": "stdout"
        },
        {
          "output_type": "stream",
          "text": [
            "4212/4212 [==============================] - 46s 11ms/step - loss: 0.6149 - acc: 0.7336 - val_loss: 0.6394 - val_acc: 0.7433\n",
            "Epoch 14/30\n",
            "1331/4212 [========>.....................] - ETA: 29s - loss: 0.5977 - acc: 0.7528"
          ],
          "name": "stdout"
        },
        {
          "output_type": "stream",
          "text": [
            "4212/4212 [==============================] - 46s 11ms/step - loss: 0.6091 - acc: 0.7400 - val_loss: 0.6680 - val_acc: 0.7433\n",
            "Epoch 15/30\n",
            "1338/4212 [========>.....................] - ETA: 29s - loss: 0.6145 - acc: 0.7377"
          ],
          "name": "stdout"
        },
        {
          "output_type": "stream",
          "text": [
            "4212/4212 [==============================] - 46s 11ms/step - loss: 0.6057 - acc: 0.7417 - val_loss: 0.6880 - val_acc: 0.7310\n",
            "Epoch 16/30\n",
            "1321/4212 [========>.....................] - ETA: 29s - loss: 0.5826 - acc: 0.7555"
          ],
          "name": "stdout"
        },
        {
          "output_type": "stream",
          "text": [
            "4212/4212 [==============================] - 46s 11ms/step - loss: 0.6054 - acc: 0.7445 - val_loss: 0.6036 - val_acc: 0.7548\n",
            "Epoch 17/30\n",
            "1329/4212 [========>.....................] - ETA: 29s - loss: 0.6169 - acc: 0.7442"
          ],
          "name": "stdout"
        },
        {
          "output_type": "stream",
          "text": [
            "4212/4212 [==============================] - 46s 11ms/step - loss: 0.5968 - acc: 0.7481 - val_loss: 0.6325 - val_acc: 0.7348\n",
            "Epoch 18/30\n",
            "1395/4212 [========>.....................] - ETA: 28s - loss: 0.5918 - acc: 0.7398"
          ],
          "name": "stdout"
        },
        {
          "output_type": "stream",
          "text": [
            "4212/4212 [==============================] - 46s 11ms/step - loss: 0.5975 - acc: 0.7500 - val_loss: 0.5926 - val_acc: 0.7624\n",
            "Epoch 19/30\n",
            "1355/4212 [========>.....................] - ETA: 29s - loss: 0.5786 - acc: 0.7557"
          ],
          "name": "stdout"
        },
        {
          "output_type": "stream",
          "text": [
            "4212/4212 [==============================] - 46s 11ms/step - loss: 0.5972 - acc: 0.7486 - val_loss: 0.5927 - val_acc: 0.7643\n",
            "Epoch 20/30\n",
            "1394/4212 [========>.....................] - ETA: 28s - loss: 0.5766 - acc: 0.7468"
          ],
          "name": "stdout"
        },
        {
          "output_type": "stream",
          "text": [
            "4212/4212 [==============================] - 46s 11ms/step - loss: 0.5794 - acc: 0.7585 - val_loss: 0.6691 - val_acc: 0.7490\n",
            "Epoch 21/30\n",
            "1424/4212 [=========>....................] - ETA: 28s - loss: 0.5850 - acc: 0.7451"
          ],
          "name": "stdout"
        },
        {
          "output_type": "stream",
          "text": [
            "4212/4212 [==============================] - 46s 11ms/step - loss: 0.5816 - acc: 0.7555 - val_loss: 0.6093 - val_acc: 0.7490\n",
            "Epoch 22/30\n",
            "1419/4212 [=========>....................] - ETA: 28s - loss: 0.5857 - acc: 0.7590"
          ],
          "name": "stdout"
        },
        {
          "output_type": "stream",
          "text": [
            "4212/4212 [==============================] - 46s 11ms/step - loss: 0.5813 - acc: 0.7588 - val_loss: 0.5815 - val_acc: 0.7652\n",
            "Epoch 23/30\n",
            "1400/4212 [========>.....................] - ETA: 28s - loss: 0.5589 - acc: 0.7679"
          ],
          "name": "stdout"
        },
        {
          "output_type": "stream",
          "text": [
            "4212/4212 [==============================] - 46s 11ms/step - loss: 0.5784 - acc: 0.7633 - val_loss: 0.7007 - val_acc: 0.7129\n",
            "Epoch 24/30\n",
            "1401/4212 [========>.....................] - ETA: 28s - loss: 0.5867 - acc: 0.7595"
          ],
          "name": "stdout"
        },
        {
          "output_type": "stream",
          "text": [
            "4212/4212 [==============================] - 46s 11ms/step - loss: 0.5763 - acc: 0.7657 - val_loss: 0.5909 - val_acc: 0.7605\n",
            "Epoch 25/30\n",
            "1364/4212 [========>.....................] - ETA: 28s - loss: 0.5722 - acc: 0.7544"
          ],
          "name": "stdout"
        },
        {
          "output_type": "stream",
          "text": [
            "4212/4212 [==============================] - 46s 11ms/step - loss: 0.5759 - acc: 0.7600 - val_loss: 0.5841 - val_acc: 0.7624\n",
            "Epoch 26/30\n",
            "1375/4212 [========>.....................] - ETA: 28s - loss: 0.5731 - acc: 0.7535"
          ],
          "name": "stdout"
        },
        {
          "output_type": "stream",
          "text": [
            "4212/4212 [==============================] - 46s 11ms/step - loss: 0.5715 - acc: 0.7604 - val_loss: 0.6139 - val_acc: 0.7519\n",
            "Epoch 27/30\n",
            "1371/4212 [========>.....................] - ETA: 28s - loss: 0.5836 - acc: 0.7593"
          ],
          "name": "stdout"
        },
        {
          "output_type": "stream",
          "text": [
            "4212/4212 [==============================] - 46s 11ms/step - loss: 0.5702 - acc: 0.7652 - val_loss: 0.6099 - val_acc: 0.7614\n",
            "Epoch 28/30\n",
            "1385/4212 [========>.....................] - ETA: 28s - loss: 0.5892 - acc: 0.7415"
          ],
          "name": "stdout"
        },
        {
          "output_type": "stream",
          "text": [
            "4212/4212 [==============================] - 46s 11ms/step - loss: 0.5664 - acc: 0.7635 - val_loss: 0.6191 - val_acc: 0.7586\n",
            "Epoch 29/30\n",
            "1419/4212 [=========>....................] - ETA: 28s - loss: 0.5208 - acc: 0.7822"
          ],
          "name": "stdout"
        },
        {
          "output_type": "stream",
          "text": [
            "4212/4212 [==============================] - 46s 11ms/step - loss: 0.5633 - acc: 0.7576 - val_loss: 0.6097 - val_acc: 0.7519\n",
            "Epoch 30/30\n",
            "1389/4212 [========>.....................] - ETA: 28s - loss: 0.5770 - acc: 0.7559"
          ],
          "name": "stdout"
        },
        {
          "output_type": "stream",
          "text": [
            "4212/4212 [==============================] - 46s 11ms/step - loss: 0.5707 - acc: 0.7583 - val_loss: 0.5699 - val_acc: 0.7776\n",
            "Fold 2 done. Final accuracy: 0.758309591642925.\n",
            "(1052, 150, 105, 3) (1052, 3)\n",
            "Train on 4212 samples, validate on 1052 samples\n",
            "Epoch 1/30\n",
            " 873/4212 [=====>........................] - ETA: 35s - loss: 1.0810 - acc: 0.4261"
          ],
          "name": "stdout"
        },
        {
          "output_type": "stream",
          "text": [
            "4212/4212 [==============================] - 46s 11ms/step - loss: 1.0581 - acc: 0.4751 - val_loss: 1.0507 - val_acc: 0.4753\n",
            "Epoch 2/30\n",
            "1200/4212 [=======>......................] - ETA: 30s - loss: 1.0497 - acc: 0.4717"
          ],
          "name": "stdout"
        },
        {
          "output_type": "stream",
          "text": [
            "4212/4212 [==============================] - 46s 11ms/step - loss: 1.0251 - acc: 0.4879 - val_loss: 0.9951 - val_acc: 0.4772\n",
            "Epoch 3/30\n",
            "1323/4212 [========>.....................] - ETA: 29s - loss: 0.9812 - acc: 0.5178"
          ],
          "name": "stdout"
        },
        {
          "output_type": "stream",
          "text": [
            "4212/4212 [==============================] - 46s 11ms/step - loss: 0.9374 - acc: 0.5691 - val_loss: 0.8725 - val_acc: 0.6302\n",
            "Epoch 4/30\n",
            "1380/4212 [========>.....................] - ETA: 28s - loss: 0.8490 - acc: 0.6319"
          ],
          "name": "stdout"
        },
        {
          "output_type": "stream",
          "text": [
            "4212/4212 [==============================] - 46s 11ms/step - loss: 0.8309 - acc: 0.6280 - val_loss: 0.7613 - val_acc: 0.6454\n",
            "Epoch 5/30\n",
            "1363/4212 [========>.....................] - ETA: 29s - loss: 0.7635 - acc: 0.6618"
          ],
          "name": "stdout"
        },
        {
          "output_type": "stream",
          "text": [
            "4212/4212 [==============================] - 46s 11ms/step - loss: 0.7672 - acc: 0.6546 - val_loss: 0.7218 - val_acc: 0.6673\n",
            "Epoch 6/30\n",
            "1368/4212 [========>.....................] - ETA: 28s - loss: 0.7466 - acc: 0.6535"
          ],
          "name": "stdout"
        },
        {
          "output_type": "stream",
          "text": [
            "4212/4212 [==============================] - 46s 11ms/step - loss: 0.7341 - acc: 0.6683 - val_loss: 0.6679 - val_acc: 0.6987\n",
            "Epoch 7/30\n",
            "1389/4212 [========>.....................] - ETA: 28s - loss: 0.7111 - acc: 0.6847"
          ],
          "name": "stdout"
        },
        {
          "output_type": "stream",
          "text": [
            "4212/4212 [==============================] - 46s 11ms/step - loss: 0.7095 - acc: 0.6826 - val_loss: 0.6441 - val_acc: 0.7243\n",
            "Epoch 8/30\n",
            "1383/4212 [========>.....................] - ETA: 28s - loss: 0.7077 - acc: 0.6905"
          ],
          "name": "stdout"
        },
        {
          "output_type": "stream",
          "text": [
            "4212/4212 [==============================] - 46s 11ms/step - loss: 0.6877 - acc: 0.7016 - val_loss: 0.6245 - val_acc: 0.7300\n",
            "Epoch 9/30\n",
            "1420/4212 [=========>....................] - ETA: 28s - loss: 0.6543 - acc: 0.7225"
          ],
          "name": "stdout"
        },
        {
          "output_type": "stream",
          "text": [
            "4212/4212 [==============================] - 46s 11ms/step - loss: 0.6707 - acc: 0.7137 - val_loss: 0.5944 - val_acc: 0.7529\n",
            "Epoch 10/30\n",
            "1400/4212 [========>.....................] - ETA: 28s - loss: 0.6982 - acc: 0.6979"
          ],
          "name": "stdout"
        },
        {
          "output_type": "stream",
          "text": [
            "4212/4212 [==============================] - 46s 11ms/step - loss: 0.6562 - acc: 0.7182 - val_loss: 0.5865 - val_acc: 0.7471\n",
            "Epoch 11/30\n",
            "1377/4212 [========>.....................] - ETA: 28s - loss: 0.6206 - acc: 0.7393"
          ],
          "name": "stdout"
        },
        {
          "output_type": "stream",
          "text": [
            "4212/4212 [==============================] - 46s 11ms/step - loss: 0.6420 - acc: 0.7324 - val_loss: 0.5660 - val_acc: 0.7662\n",
            "Epoch 12/30\n",
            "1343/4212 [========>.....................] - ETA: 29s - loss: 0.6387 - acc: 0.7223"
          ],
          "name": "stdout"
        },
        {
          "output_type": "stream",
          "text": [
            "4212/4212 [==============================] - 46s 11ms/step - loss: 0.6186 - acc: 0.7350 - val_loss: 0.5488 - val_acc: 0.7747\n",
            "Epoch 13/30\n",
            "1383/4212 [========>.....................] - ETA: 28s - loss: 0.6033 - acc: 0.7462"
          ],
          "name": "stdout"
        },
        {
          "output_type": "stream",
          "text": [
            "4212/4212 [==============================] - 46s 11ms/step - loss: 0.6134 - acc: 0.7455 - val_loss: 0.5553 - val_acc: 0.7652\n",
            "Epoch 14/30\n",
            "1455/4212 [=========>....................] - ETA: 27s - loss: 0.6002 - acc: 0.7409"
          ],
          "name": "stdout"
        },
        {
          "output_type": "stream",
          "text": [
            "4212/4212 [==============================] - 45s 11ms/step - loss: 0.6078 - acc: 0.7453 - val_loss: 0.5610 - val_acc: 0.7766\n",
            "Epoch 15/30\n",
            "1408/4212 [=========>....................] - ETA: 28s - loss: 0.6176 - acc: 0.7486"
          ],
          "name": "stdout"
        },
        {
          "output_type": "stream",
          "text": [
            "4212/4212 [==============================] - 46s 11ms/step - loss: 0.6099 - acc: 0.7483 - val_loss: 0.7036 - val_acc: 0.7395\n",
            "Epoch 16/30\n",
            "1391/4212 [========>.....................] - ETA: 28s - loss: 0.5993 - acc: 0.7498"
          ],
          "name": "stdout"
        },
        {
          "output_type": "stream",
          "text": [
            "4212/4212 [==============================] - 46s 11ms/step - loss: 0.6080 - acc: 0.7521 - val_loss: 0.5274 - val_acc: 0.7861\n",
            "Epoch 17/30\n",
            "1392/4212 [========>.....................] - ETA: 28s - loss: 0.5979 - acc: 0.7601"
          ],
          "name": "stdout"
        },
        {
          "output_type": "stream",
          "text": [
            "4212/4212 [==============================] - 46s 11ms/step - loss: 0.5900 - acc: 0.7566 - val_loss: 0.5421 - val_acc: 0.7842\n",
            "Epoch 18/30\n",
            "1405/4212 [=========>....................] - ETA: 28s - loss: 0.5827 - acc: 0.7537"
          ],
          "name": "stdout"
        },
        {
          "output_type": "stream",
          "text": [
            "4212/4212 [==============================] - 46s 11ms/step - loss: 0.5932 - acc: 0.7519 - val_loss: 0.5188 - val_acc: 0.7909\n",
            "Epoch 19/30\n",
            "1371/4212 [========>.....................] - ETA: 29s - loss: 0.5741 - acc: 0.7578"
          ],
          "name": "stdout"
        },
        {
          "output_type": "stream",
          "text": [
            "4212/4212 [==============================] - 46s 11ms/step - loss: 0.5908 - acc: 0.7564 - val_loss: 0.5189 - val_acc: 0.7871\n",
            "Epoch 20/30\n",
            "1354/4212 [========>.....................] - ETA: 29s - loss: 0.5955 - acc: 0.7548"
          ],
          "name": "stdout"
        },
        {
          "output_type": "stream",
          "text": [
            "4212/4212 [==============================] - 46s 11ms/step - loss: 0.5927 - acc: 0.7583 - val_loss: 0.5334 - val_acc: 0.7871\n",
            "Epoch 21/30\n",
            "1388/4212 [========>.....................] - ETA: 28s - loss: 0.5875 - acc: 0.7586"
          ],
          "name": "stdout"
        },
        {
          "output_type": "stream",
          "text": [
            "4212/4212 [==============================] - 46s 11ms/step - loss: 0.5772 - acc: 0.7619 - val_loss: 0.5171 - val_acc: 0.7909\n",
            "Epoch 22/30\n",
            "1388/4212 [========>.....................] - ETA: 28s - loss: 0.5798 - acc: 0.7622"
          ],
          "name": "stdout"
        },
        {
          "output_type": "stream",
          "text": [
            "4212/4212 [==============================] - 46s 11ms/step - loss: 0.5779 - acc: 0.7595 - val_loss: 0.5013 - val_acc: 0.7975\n",
            "Epoch 23/30\n",
            "1367/4212 [========>.....................] - ETA: 29s - loss: 0.5587 - acc: 0.7791"
          ],
          "name": "stdout"
        },
        {
          "output_type": "stream",
          "text": [
            "4212/4212 [==============================] - 46s 11ms/step - loss: 0.5732 - acc: 0.7604 - val_loss: 0.4949 - val_acc: 0.7956\n",
            "Epoch 24/30\n",
            "1377/4212 [========>.....................] - ETA: 28s - loss: 0.5897 - acc: 0.7538"
          ],
          "name": "stdout"
        },
        {
          "output_type": "stream",
          "text": [
            "4212/4212 [==============================] - 46s 11ms/step - loss: 0.5702 - acc: 0.7604 - val_loss: 0.4886 - val_acc: 0.7975\n",
            "Epoch 25/30\n",
            "1356/4212 [========>.....................] - ETA: 29s - loss: 0.5756 - acc: 0.7581"
          ],
          "name": "stdout"
        },
        {
          "output_type": "stream",
          "text": [
            "4212/4212 [==============================] - 46s 11ms/step - loss: 0.5737 - acc: 0.7664 - val_loss: 0.5069 - val_acc: 0.7890\n",
            "Epoch 26/30\n",
            "1389/4212 [========>.....................] - ETA: 28s - loss: 0.5613 - acc: 0.7646"
          ],
          "name": "stdout"
        },
        {
          "output_type": "stream",
          "text": [
            "4212/4212 [==============================] - 46s 11ms/step - loss: 0.5645 - acc: 0.7645 - val_loss: 0.4947 - val_acc: 0.8004\n",
            "Epoch 27/30\n",
            "1393/4212 [========>.....................] - ETA: 28s - loss: 0.5683 - acc: 0.7703"
          ],
          "name": "stdout"
        },
        {
          "output_type": "stream",
          "text": [
            "4212/4212 [==============================] - 46s 11ms/step - loss: 0.5641 - acc: 0.7673 - val_loss: 0.5168 - val_acc: 0.7975\n",
            "Epoch 28/30\n",
            "1369/4212 [========>.....................] - ETA: 29s - loss: 0.5708 - acc: 0.7648"
          ],
          "name": "stdout"
        },
        {
          "output_type": "stream",
          "text": [
            "4212/4212 [==============================] - 46s 11ms/step - loss: 0.5655 - acc: 0.7657 - val_loss: 0.4840 - val_acc: 0.7975\n",
            "Epoch 29/30\n",
            "1391/4212 [========>.....................] - ETA: 28s - loss: 0.5761 - acc: 0.7577"
          ],
          "name": "stdout"
        },
        {
          "output_type": "stream",
          "text": [
            "4212/4212 [==============================] - 46s 11ms/step - loss: 0.5617 - acc: 0.7688 - val_loss: 0.5138 - val_acc: 0.7975\n",
            "Epoch 30/30\n",
            "1383/4212 [========>.....................] - ETA: 28s - loss: 0.5526 - acc: 0.7679"
          ],
          "name": "stdout"
        },
        {
          "output_type": "stream",
          "text": [
            "4212/4212 [==============================] - 46s 11ms/step - loss: 0.5685 - acc: 0.7664 - val_loss: 0.5300 - val_acc: 0.7833\n",
            "Fold 3 done. Final accuracy: 0.7663817663817664.\n",
            "(1052, 150, 105, 3) (1052, 3)\n",
            "Train on 4212 samples, validate on 1052 samples\n",
            "Epoch 1/30\n",
            " 847/4212 [=====>........................] - ETA: 36s - loss: 1.0763 - acc: 0.4628"
          ],
          "name": "stdout"
        },
        {
          "output_type": "stream",
          "text": [
            "4212/4212 [==============================] - 47s 11ms/step - loss: 1.0605 - acc: 0.4736 - val_loss: 1.0119 - val_acc: 0.5152\n",
            "Epoch 2/30\n",
            "1147/4212 [=======>......................] - ETA: 31s - loss: 1.0378 - acc: 0.4717"
          ],
          "name": "stdout"
        },
        {
          "output_type": "stream",
          "text": [
            "4212/4212 [==============================] - 46s 11ms/step - loss: 1.0094 - acc: 0.4917 - val_loss: 0.9746 - val_acc: 0.6454\n",
            "Epoch 3/30\n",
            "1280/4212 [========>.....................] - ETA: 29s - loss: 0.9561 - acc: 0.5508"
          ],
          "name": "stdout"
        },
        {
          "output_type": "stream",
          "text": [
            "4212/4212 [==============================] - 46s 11ms/step - loss: 0.9099 - acc: 0.5969 - val_loss: 0.8389 - val_acc: 0.6445\n",
            "Epoch 4/30\n",
            "1323/4212 [========>.....................] - ETA: 29s - loss: 0.8361 - acc: 0.6266"
          ],
          "name": "stdout"
        },
        {
          "output_type": "stream",
          "text": [
            "4212/4212 [==============================] - 46s 11ms/step - loss: 0.8024 - acc: 0.6413 - val_loss: 0.7566 - val_acc: 0.6530\n",
            "Epoch 5/30\n",
            "1374/4212 [========>.....................] - ETA: 28s - loss: 0.7706 - acc: 0.6507"
          ],
          "name": "stdout"
        },
        {
          "output_type": "stream",
          "text": [
            "4212/4212 [==============================] - 46s 11ms/step - loss: 0.7495 - acc: 0.6536 - val_loss: 0.7188 - val_acc: 0.6835\n",
            "Epoch 6/30\n",
            "1414/4212 [=========>....................] - ETA: 28s - loss: 0.7277 - acc: 0.6641"
          ],
          "name": "stdout"
        },
        {
          "output_type": "stream",
          "text": [
            "4212/4212 [==============================] - 46s 11ms/step - loss: 0.7169 - acc: 0.6738 - val_loss: 0.7345 - val_acc: 0.6863\n",
            "Epoch 7/30\n",
            "1400/4212 [========>.....................] - ETA: 28s - loss: 0.6904 - acc: 0.6971"
          ],
          "name": "stdout"
        },
        {
          "output_type": "stream",
          "text": [
            "4212/4212 [==============================] - 46s 11ms/step - loss: 0.6981 - acc: 0.6918 - val_loss: 0.6851 - val_acc: 0.6996\n",
            "Epoch 8/30\n",
            "1387/4212 [========>.....................] - ETA: 28s - loss: 0.6990 - acc: 0.6835"
          ],
          "name": "stdout"
        },
        {
          "output_type": "stream",
          "text": [
            "4212/4212 [==============================] - 46s 11ms/step - loss: 0.6738 - acc: 0.7011 - val_loss: 0.6830 - val_acc: 0.6996\n",
            "Epoch 9/30\n",
            "1378/4212 [========>.....................] - ETA: 28s - loss: 0.6771 - acc: 0.6909"
          ],
          "name": "stdout"
        },
        {
          "output_type": "stream",
          "text": [
            "4212/4212 [==============================] - 46s 11ms/step - loss: 0.6597 - acc: 0.7113 - val_loss: 0.6793 - val_acc: 0.7139\n",
            "Epoch 10/30\n",
            "1376/4212 [========>.....................] - ETA: 28s - loss: 0.6569 - acc: 0.7180"
          ],
          "name": "stdout"
        },
        {
          "output_type": "stream",
          "text": [
            "4212/4212 [==============================] - 46s 11ms/step - loss: 0.6450 - acc: 0.7289 - val_loss: 0.7040 - val_acc: 0.6996\n",
            "Epoch 11/30\n",
            "1318/4212 [========>.....................] - ETA: 29s - loss: 0.6472 - acc: 0.7238"
          ],
          "name": "stdout"
        },
        {
          "output_type": "stream",
          "text": [
            "4212/4212 [==============================] - 46s 11ms/step - loss: 0.6353 - acc: 0.7365 - val_loss: 0.6328 - val_acc: 0.7338\n",
            "Epoch 12/30\n",
            "1336/4212 [========>.....................] - ETA: 29s - loss: 0.6189 - acc: 0.7433"
          ],
          "name": "stdout"
        },
        {
          "output_type": "stream",
          "text": [
            "4212/4212 [==============================] - 47s 11ms/step - loss: 0.6238 - acc: 0.7372 - val_loss: 0.6316 - val_acc: 0.7338\n",
            "Epoch 13/30\n",
            "1266/4212 [========>.....................] - ETA: 31s - loss: 0.6385 - acc: 0.7314"
          ],
          "name": "stdout"
        },
        {
          "output_type": "stream",
          "text": [
            "4212/4212 [==============================] - 48s 11ms/step - loss: 0.6182 - acc: 0.7388 - val_loss: 0.7347 - val_acc: 0.7110\n",
            "Epoch 14/30\n",
            "1179/4212 [=======>......................] - ETA: 32s - loss: 0.6156 - acc: 0.7388"
          ],
          "name": "stdout"
        },
        {
          "output_type": "stream",
          "text": [
            "4212/4212 [==============================] - 48s 11ms/step - loss: 0.6056 - acc: 0.7448 - val_loss: 0.6258 - val_acc: 0.7452\n",
            "Epoch 15/30\n",
            "1128/4212 [=======>......................] - ETA: 33s - loss: 0.6125 - acc: 0.7402"
          ],
          "name": "stdout"
        },
        {
          "output_type": "stream",
          "text": [
            "4212/4212 [==============================] - 49s 12ms/step - loss: 0.6046 - acc: 0.7481 - val_loss: 0.6048 - val_acc: 0.7567\n",
            "Epoch 16/30\n",
            "1114/4212 [======>.......................] - ETA: 33s - loss: 0.6286 - acc: 0.7361"
          ],
          "name": "stdout"
        },
        {
          "output_type": "stream",
          "text": [
            "4212/4212 [==============================] - 48s 11ms/step - loss: 0.5958 - acc: 0.7538 - val_loss: 0.5956 - val_acc: 0.7633\n",
            "Epoch 17/30\n",
            "1117/4212 [======>.......................] - ETA: 33s - loss: 0.5644 - acc: 0.7735"
          ],
          "name": "stdout"
        },
        {
          "output_type": "stream",
          "text": [
            "4212/4212 [==============================] - 48s 11ms/step - loss: 0.5924 - acc: 0.7583 - val_loss: 0.6825 - val_acc: 0.7300\n",
            "Epoch 18/30\n",
            "1124/4212 [=======>......................] - ETA: 32s - loss: 0.5904 - acc: 0.7589"
          ],
          "name": "stdout"
        },
        {
          "output_type": "stream",
          "text": [
            "4212/4212 [==============================] - 47s 11ms/step - loss: 0.5808 - acc: 0.7566 - val_loss: 0.6819 - val_acc: 0.7243\n",
            "Epoch 19/30\n",
            "1155/4212 [=======>......................] - ETA: 32s - loss: 0.6108 - acc: 0.7550"
          ],
          "name": "stdout"
        },
        {
          "output_type": "stream",
          "text": [
            "4212/4212 [==============================] - 48s 11ms/step - loss: 0.5837 - acc: 0.7635 - val_loss: 0.6123 - val_acc: 0.7490\n",
            "Epoch 20/30\n",
            "1156/4212 [=======>......................] - ETA: 32s - loss: 0.5703 - acc: 0.7543"
          ],
          "name": "stdout"
        },
        {
          "output_type": "stream",
          "text": [
            "4212/4212 [==============================] - 48s 11ms/step - loss: 0.5855 - acc: 0.7509 - val_loss: 0.6382 - val_acc: 0.7243\n",
            "Epoch 21/30\n",
            "1168/4212 [=======>......................] - ETA: 31s - loss: 0.5467 - acc: 0.7842"
          ],
          "name": "stdout"
        },
        {
          "output_type": "stream",
          "text": [
            "4212/4212 [==============================] - 48s 11ms/step - loss: 0.5823 - acc: 0.7614 - val_loss: 0.6079 - val_acc: 0.7519\n",
            "Epoch 22/30\n",
            "1150/4212 [=======>......................] - ETA: 32s - loss: 0.5583 - acc: 0.7713"
          ],
          "name": "stdout"
        },
        {
          "output_type": "stream",
          "text": [
            "4212/4212 [==============================] - 48s 11ms/step - loss: 0.5763 - acc: 0.7647 - val_loss: 0.6543 - val_acc: 0.7158\n",
            "Epoch 23/30\n",
            "1142/4212 [=======>......................] - ETA: 32s - loss: 0.5691 - acc: 0.7566"
          ],
          "name": "stdout"
        },
        {
          "output_type": "stream",
          "text": [
            "4212/4212 [==============================] - 48s 11ms/step - loss: 0.5735 - acc: 0.7661 - val_loss: 0.5719 - val_acc: 0.7548\n",
            "Epoch 24/30\n",
            "1130/4212 [=======>......................] - ETA: 33s - loss: 0.5662 - acc: 0.7699"
          ],
          "name": "stdout"
        },
        {
          "output_type": "stream",
          "text": [
            "4212/4212 [==============================] - 48s 11ms/step - loss: 0.5689 - acc: 0.7673 - val_loss: 0.6181 - val_acc: 0.7519\n",
            "Epoch 25/30\n",
            "1132/4212 [=======>......................] - ETA: 32s - loss: 0.5588 - acc: 0.7809"
          ],
          "name": "stdout"
        },
        {
          "output_type": "stream",
          "text": [
            "4212/4212 [==============================] - 48s 11ms/step - loss: 0.5631 - acc: 0.7728 - val_loss: 0.5741 - val_acc: 0.7690\n",
            "Epoch 26/30\n",
            "1116/4212 [======>.......................] - ETA: 33s - loss: 0.5900 - acc: 0.7563"
          ],
          "name": "stdout"
        },
        {
          "output_type": "stream",
          "text": [
            "4212/4212 [==============================] - 48s 11ms/step - loss: 0.5661 - acc: 0.7699 - val_loss: 0.5732 - val_acc: 0.7586\n",
            "Epoch 27/30\n",
            "1117/4212 [======>.......................] - ETA: 33s - loss: 0.5768 - acc: 0.7699"
          ],
          "name": "stdout"
        },
        {
          "output_type": "stream",
          "text": [
            "4212/4212 [==============================] - 48s 11ms/step - loss: 0.5716 - acc: 0.7688 - val_loss: 0.5741 - val_acc: 0.7605\n",
            "Epoch 28/30\n",
            "1126/4212 [=======>......................] - ETA: 32s - loss: 0.5381 - acc: 0.7753"
          ],
          "name": "stdout"
        },
        {
          "output_type": "stream",
          "text": [
            "4212/4212 [==============================] - 48s 11ms/step - loss: 0.5593 - acc: 0.7709 - val_loss: 0.6638 - val_acc: 0.7433\n",
            "Epoch 29/30\n",
            "1132/4212 [=======>......................] - ETA: 33s - loss: 0.5738 - acc: 0.7747"
          ],
          "name": "stdout"
        },
        {
          "output_type": "stream",
          "text": [
            "4212/4212 [==============================] - 49s 12ms/step - loss: 0.5591 - acc: 0.7778 - val_loss: 0.5631 - val_acc: 0.7700\n",
            "Epoch 30/30\n",
            "1118/4212 [======>.......................] - ETA: 33s - loss: 0.5620 - acc: 0.7764"
          ],
          "name": "stdout"
        },
        {
          "output_type": "stream",
          "text": [
            "4212/4212 [==============================] - 48s 11ms/step - loss: 0.5533 - acc: 0.7733 - val_loss: 0.5655 - val_acc: 0.7766\n",
            "Fold 4 done. Final accuracy: 0.7732668566001899.\n"
          ],
          "name": "stdout"
        }
      ]
    },
    {
      "metadata": {
        "id": "DvFY9ShhtmTk",
        "colab_type": "code",
        "colab": {}
      },
      "cell_type": "code",
      "source": [
        "import pickle\n",
        "\n",
        "val_acc = []\n",
        "for i in histories:\n",
        "  val_acc.append(i.history['val_acc'])\n",
        "\n",
        "acc = []\n",
        "for i in histories:\n",
        "  acc.append(i.history['acc'])\n",
        "  \n",
        "val_loss = []\n",
        "for i in histories:\n",
        "  val_loss.append(i.history['val_loss'])\n",
        "\n",
        "loss = []\n",
        "for i in histories:\n",
        "  loss.append(i.history['loss'])\n",
        "  \n",
        "data_to_save = {'acc': acc, 'val_acc': val_acc, 'loss': loss,'val_loss': val_loss}\n",
        "\n",
        "with open(\"histories2205.p\", 'wb') as outfile:\n",
        "    pickle.dump(data_to_save, outfile)\n",
        "histories_file = drive.CreateFile()\n",
        "histories_file.SetContentFile('histories2205.p')\n",
        "histories_file.Upload()"
      ],
      "execution_count": 0,
      "outputs": []
    },
    {
      "metadata": {
        "id": "OqqoeHUNIPBF",
        "colab_type": "code",
        "colab": {
          "base_uri": "https://localhost:8080/",
          "height": 677
        },
        "outputId": "6d8d78a8-de51-4bcf-e489-1396d4ebbafb"
      },
      "cell_type": "code",
      "source": [
        "import matplotlib.pyplot as plt\n",
        "\n",
        "epochs = range(1, 31)\n",
        "\n",
        "\n",
        "plt.plot(epochs, histories[0].history['val_acc'], 'b')\n",
        "plt.plot(epochs, histories[1].history['val_acc'], 'pink')\n",
        "plt.plot(epochs, histories[2].history['val_acc'], 'g')\n",
        "plt.plot(epochs, histories[3].history['val_acc'], 'black')\n",
        "plt.plot(epochs, histories[4].history['val_acc'], 'r')\n",
        "plt.title('Validation accuracy over 5 different folds')\n",
        "plt.xlabel('Epochs')\n",
        "plt.ylabel('Accuracy')\n",
        "plt.figure()\n",
        "\n",
        "plt.plot(epochs, np.mean(val_acc, axis=0), 'b')\n",
        "plt.plot(epochs, np.mean(acc, axis=0), 'red')\n",
        "plt.title('Training and validation mean accuracy over 5 different folds')\n",
        "plt.xlabel('Epochs')\n",
        "plt.ylabel('Accuracy')\n",
        "\n",
        "plt.show()"
      ],
      "execution_count": 26,
      "outputs": [
        {
          "output_type": "display_data",
          "data": {
            "image/png": "[encoded data removed]",
            "text/plain": [
              "<matplotlib.figure.Figure at 0x7f44a9452668>"
            ]
          },
          "metadata": {
            "tags": []
          }
        },
        {
          "output_type": "display_data",
          "data": {
            "image/png": "[encoded data removed]",
            "text/plain": [
              "<matplotlib.figure.Figure at 0x7f45164f4940>"
            ]
          },
          "metadata": {
            "tags": []
          }
        }
      ]
    },
    {
      "metadata": {
        "id": "h7YbFx9oSFfO",
        "colab_type": "text"
      },
      "cell_type": "markdown",
      "source": [
        "As we can see, the accuracy is increasing over time, probably reaching plateu in the end, but we can perform some longer learning process to investigate it. What is interesting is that validation accuracy is usually higher than training accuracy. Some flow in my script?"
      ]
    },
    {
      "metadata": {
        "id": "oxZACuSIS5_S",
        "colab_type": "text"
      },
      "cell_type": "markdown",
      "source": [
        "### K=5 epochs=50"
      ]
    },
    {
      "metadata": {
        "id": "eapP4IdNS_Ug",
        "colab_type": "code",
        "colab": {
          "base_uri": "https://localhost:8080/",
          "height": 89
        },
        "outputId": "7a4dd66d-5bf1-4985-d2ca-6f0d5c9fa625"
      },
      "cell_type": "code",
      "source": [
        "histories2 = kFolding(5, generateModel, 50, train_images, train_targets)"
      ],
      "execution_count": 0,
      "outputs": [
        {
          "output_type": "stream",
          "text": [
            "(1052, 150, 105, 3) (1052, 3)\n",
            "Train on 4212 samples, validate on 1052 samples\n",
            "Epoch 1/50\n",
            "2962/4212 [====================>.........] - ETA: 13s - loss: 1.0634 - acc: 0.4787"
          ],
          "name": "stdout"
        },
        {
          "output_type": "stream",
          "text": [
            "\b\b\b\b\b\b\b\b\b\b\b\b\b\b\b\b\b\b\b\b\b\b\b\b\b\b\b\b\b\b\b\b\b\b\b\b\b\b\b\b\b\b\b\b\b\b\b\b\b\b\b\b\b\b\b\b\b\b\b\b\b\b\b\b\b\b\b\b\b\b\b\b\b\b\b\b\b\b\b\b\b\b\r2967/4212 [====================>.........] - ETA: 13s - loss: 1.0635 - acc: 0.4786"
          ],
          "name": "stdout"
        }
      ]
    },
    {
      "metadata": {
        "id": "tpeURAfiTBod",
        "colab_type": "code",
        "colab": {}
      },
      "cell_type": "code",
      "source": [
        ""
      ],
      "execution_count": 0,
      "outputs": []
    }
  ]
}